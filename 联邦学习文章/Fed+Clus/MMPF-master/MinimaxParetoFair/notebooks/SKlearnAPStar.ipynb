{
 "cells": [
  {
   "cell_type": "code",
   "execution_count": 1,
   "metadata": {},
   "outputs": [
    {
     "name": "stderr",
     "output_type": "stream",
     "text": [
      "/Users/martinbertran/anaconda3/lib/python3.7/site-packages/dask/config.py:168: YAMLLoadWarning: calling yaml.load() without Loader=... is deprecated, as the default Loader is unsafe. Please read https://msg.pyyaml.org/load for full details.\n",
      "  data = yaml.load(f.read()) or {}\n"
     ]
    }
   ],
   "source": [
    "%matplotlib inline\n",
    "import numpy as np\n",
    "import matplotlib.pyplot as plt\n",
    "\n",
    "import pandas as pd\n",
    "import os, pickle\n",
    "import sys\n",
    "sys.path.append(\".\")\n",
    "sys.path.append(\"../..\")\n",
    "import MinimaxParetoFair as MMPF"
   ]
  },
  {
   "cell_type": "markdown",
   "metadata": {},
   "source": [
    "# Example of APStar algorithm on top of Linear Logistic Regression on Adult/Gender dataset"
   ]
  },
  {
   "cell_type": "code",
   "execution_count": 3,
   "metadata": {
    "scrolled": true
   },
   "outputs": [
    {
     "name": "stderr",
     "output_type": "stream",
     "text": [
      "/Users/martinbertran/anaconda3/lib/python3.7/site-packages/sklearn/linear_model/logistic.py:1438: RuntimeWarning: divide by zero encountered in log\n",
      "  return np.log(self.predict_proba(X))\n"
     ]
    },
    {
     "name": "stdout",
     "output_type": "stream",
     "text": [
      "patience , iterations 189 201\n",
      "-----------------------------------------\n",
      "patience , iterations 0 201\n",
      "-----------------------------------------\n",
      "patience , iterations 147 201\n",
      "-----------------------------------------\n",
      "patience , iterations 1 201\n",
      "-----------------------------------------\n",
      "patience , iterations 195 201\n",
      "-----------------------------------------\n"
     ]
    }
   ],
   "source": [
    "for split in range(5):\n",
    "    \n",
    "    #Load split data\n",
    "    train_pd, val_pd, test_pd, col_tags = MMPF.dataset_loaders.load_adult(split)\n",
    "    dataset_name = 'adult_gender'\n",
    "    utility_tag = 'income-per-year_cat'\n",
    "    secret_tag = 'sex_cat'\n",
    "\n",
    "    x_train = train_pd[col_tags].values\n",
    "    y_train = train_pd[utility_tag].values\n",
    "    a_train = train_pd[secret_tag].values\n",
    "\n",
    "    x_val = val_pd[col_tags].values\n",
    "    y_val = val_pd[utility_tag].values\n",
    "    a_val = val_pd[secret_tag].values\n",
    "\n",
    "    x_test = test_pd[col_tags].values\n",
    "    y_test = test_pd[utility_tag].values\n",
    "    a_test = test_pd[secret_tag].values\n",
    "    \n",
    "    a_prior=np.zeros(a_train.max()+1)\n",
    "    for a in range(a_train.max()+1):\n",
    "        a_prior[a] = np.mean(a_train==a)\n",
    "    \n",
    "    #Instantiate logistic regression model\n",
    "    model = MMPF.SKLearn_Weighted_LLR(x_train, y_train, a_train, x_val, y_val, a_val)\n",
    "\n",
    "    # Run algorithm\n",
    "    mua_ini = np.ones(a_val.max()+1)\n",
    "    mua_ini /= mua_ini.sum()\n",
    "    \n",
    "    results = MMPF.APSTAR(model,mua_ini ,niter = 200 ,max_patience = 200 ,Kini=1,\n",
    "                        Kmin = 20,alpha = 0.5,verbose = False)\n",
    "    risk_list = results['risk_list']\n",
    "    risk_best_list = results['risk_best_list']\n",
    "    mu_list = results['mu_list']\n",
    "    mu_best_list = results['mu_best_list'] \n",
    "\n",
    "    mu_best= mu_best_list[-1]\n",
    "    model.weighted_fit(x_train,y_train,a_train, mu_best)\n",
    "    \n",
    "    # get classifier result tables\n",
    "    #val tables\n",
    "    val_pd['secret_gt']=val_pd[secret_tag]\n",
    "    val_pd['utility_gt']=val_pd[utility_tag]\n",
    "    pu = model.predict_proba(x_val)\n",
    "    val_pd['utility_pest_0']=pu[:,0]\n",
    "    val_pd['utility_pest_1']=pu[:,1]\n",
    "    val_pd.drop(val_pd.columns.difference(\n",
    "        ['secret_gt','utility_gt', 'utility_pest_0', 'utility_pest_1']), 1, inplace=True)\n",
    "\n",
    "    #test tables\n",
    "    test_pd['secret_gt']=test_pd[secret_tag]\n",
    "    test_pd['utility_gt']=test_pd[utility_tag]\n",
    "    pu = model.predict_proba(x_test)\n",
    "    test_pd['utility_pest_0']=pu[:,0]\n",
    "    test_pd['utility_pest_1']=pu[:,1]\n",
    "    test_pd.drop(val_pd.columns.difference(\n",
    "    ['secret_gt','utility_gt', 'utility_pest_0', 'utility_pest_1']), 1, inplace=True)\n",
    "\n",
    "    \n",
    "\n",
    "    #Save results\n",
    "    save_dict={'df_val_result': val_pd, 'df_test_result':test_pd}\n",
    "    save_dict['priors']={'sensitve': a_prior}\n",
    "    save_dict['pareto_saves']=results\n",
    "    \n",
    "    \n",
    "    save_dir = os.path.join('../results', dataset_name,dataset_name)\n",
    "    os.makedirs(save_dir, exist_ok=True)\n",
    "    with open( os.path.join(save_dir,'apstar_llr_{:d}.pkl'.format(split)),'wb') as f:\n",
    "        save_dict={'df_val_result': val_pd, 'df_test_result':test_pd}\n",
    "        pickle.dump(save_dict,f)"
   ]
  },
  {
   "cell_type": "code",
   "execution_count": null,
   "metadata": {},
   "outputs": [],
   "source": [
    ""
   ]
  }
 ],
 "metadata": {
  "kernelspec": {
   "display_name": "Python 3",
   "language": "python",
   "name": "python3"
  },
  "language_info": {
   "codemirror_mode": {
    "name": "ipython",
    "version": 3.0
   },
   "file_extension": ".py",
   "mimetype": "text/x-python",
   "name": "python",
   "nbconvert_exporter": "python",
   "pygments_lexer": "ipython3",
   "version": "3.7.3"
  }
 },
 "nbformat": 4,
 "nbformat_minor": 0
}